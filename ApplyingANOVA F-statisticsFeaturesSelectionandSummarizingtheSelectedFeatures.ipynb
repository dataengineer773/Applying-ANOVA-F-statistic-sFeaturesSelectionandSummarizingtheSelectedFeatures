{
 "cells": [
  {
   "cell_type": "code",
   "execution_count": 1,
   "id": "e6ad22f4-46ba-4528-8920-490c88a0eb53",
   "metadata": {},
   "outputs": [],
   "source": [
    "# anova f-test feature selection for numerical data\n",
    "from pandas import read_csv\n",
    "from sklearn.model_selection import train_test_split\n",
    "from sklearn.feature_selection import SelectKBest\n",
    "from sklearn.feature_selection import f_classif\n",
    "from matplotlib import pyplot"
   ]
  },
  {
   "cell_type": "code",
   "execution_count": 2,
   "id": "d2ebf0ee-0f02-442b-b978-ac743b1fa0bf",
   "metadata": {},
   "outputs": [],
   "source": [
    "# load the dataset\n",
    "def load_dataset(filename):\n",
    "    # load the dataset as a pandas DataFrame\n",
    "    data = read_csv(filename, header=None)\n",
    "    # retrieve numpy array\n",
    "    dataset = data.values\n",
    "    # split into (X) and output (y) varriables\n",
    "    X = dataset[:, :-1]\n",
    "    y = dataset[:, -1]\n",
    "    return X, y"
   ]
  },
  {
   "cell_type": "code",
   "execution_count": 3,
   "id": "6b8e5d24-e661-4f34-aaf8-dcaa1f0c7009",
   "metadata": {},
   "outputs": [],
   "source": [
    "# faeture selection\n",
    "def select_features(X_train, y_train, X_test):\n",
    "    # configure to select all features\n",
    "    fs = SelectKBest(score_func=f_classif, k='all')\n",
    "    # learn relationship from training data\n",
    "    fs.fit(X_train, y_train)\n",
    "    # transform train input data\n",
    "    X_train_fs = fs.transform(X_train)\n",
    "    # transform test input data\n",
    "    X_test_fs = fs.transform(X_test)\n",
    "    return X_train_fs, X_test_fs, fs"
   ]
  },
  {
   "cell_type": "code",
   "execution_count": 4,
   "id": "2cddd46f-b71d-421b-8902-be5ddfeac0c9",
   "metadata": {},
   "outputs": [
    {
     "data": {
      "text/plain": [
       "(array([['Pregnancies', 'Glucose', 'BloodPressure', ..., 'BMI',\n",
       "         'DiabetesPedigreeFunction', 'Age'],\n",
       "        ['6', '148', '72', ..., '33.6', '0.627', '50'],\n",
       "        ['1', '85', '66', ..., '26.6', '0.351', '31'],\n",
       "        ...,\n",
       "        ['5', '121', '72', ..., '26.2', '0.245', '30'],\n",
       "        ['1', '126', '60', ..., '30.1', '0.349', '47'],\n",
       "        ['1', '93', '70', ..., '30.4', '0.315', '23']], dtype=object),\n",
       " array(['Outcome', '1', '0', '1', '0', '1', '0', '1', '0', '1', '1', '0',\n",
       "        '1', '0', '1', '1', '1', '1', '1', '0', '1', '0', '0', '1', '1',\n",
       "        '1', '1', '1', '0', '0', '0', '0', '1', '0', '0', '0', '0', '0',\n",
       "        '1', '1', '1', '0', '0', '0', '1', '0', '1', '0', '0', '1', '0',\n",
       "        '0', '0', '0', '1', '0', '0', '1', '0', '0', '0', '0', '1', '0',\n",
       "        '0', '1', '0', '1', '0', '0', '0', '1', '0', '1', '0', '0', '0',\n",
       "        '0', '0', '1', '0', '0', '0', '0', '0', '1', '0', '0', '0', '1',\n",
       "        '0', '0', '0', '0', '1', '0', '0', '0', '0', '0', '1', '1', '0',\n",
       "        '0', '0', '0', '0', '0', '0', '0', '1', '1', '1', '0', '0', '1',\n",
       "        '1', '1', '0', '0', '0', '1', '0', '0', '0', '1', '1', '0', '0',\n",
       "        '1', '1', '1', '1', '1', '0', '0', '0', '0', '0', '0', '0', '0',\n",
       "        '0', '0', '1', '0', '0', '0', '0', '0', '0', '0', '0', '1', '0',\n",
       "        '1', '1', '0', '0', '0', '1', '0', '0', '0', '0', '1', '1', '0',\n",
       "        '0', '0', '0', '1', '1', '0', '0', '0', '1', '0', '1', '0', '1',\n",
       "        '0', '0', '0', '0', '0', '1', '1', '1', '1', '1', '0', '0', '1',\n",
       "        '1', '0', '1', '0', '1', '1', '1', '0', '0', '0', '0', '0', '0',\n",
       "        '1', '1', '0', '1', '0', '0', '0', '1', '1', '1', '1', '0', '1',\n",
       "        '1', '1', '1', '0', '0', '0', '0', '0', '1', '0', '0', '1', '1',\n",
       "        '0', '0', '0', '1', '1', '1', '1', '0', '0', '0', '1', '1', '0',\n",
       "        '1', '0', '0', '0', '0', '0', '0', '0', '0', '1', '1', '0', '0',\n",
       "        '0', '1', '0', '1', '0', '0', '1', '0', '1', '0', '0', '1', '1',\n",
       "        '0', '0', '0', '0', '0', '1', '0', '0', '0', '1', '0', '0', '1',\n",
       "        '1', '0', '0', '1', '0', '0', '0', '1', '1', '1', '0', '0', '1',\n",
       "        '0', '1', '0', '1', '1', '0', '1', '0', '0', '1', '0', '1', '1',\n",
       "        '0', '0', '1', '0', '1', '0', '0', '1', '0', '1', '0', '1', '1',\n",
       "        '1', '0', '0', '1', '0', '1', '0', '0', '0', '1', '0', '0', '0',\n",
       "        '0', '1', '1', '1', '0', '0', '0', '0', '0', '0', '0', '0', '0',\n",
       "        '1', '0', '0', '0', '0', '0', '1', '1', '1', '0', '1', '1', '0',\n",
       "        '0', '1', '0', '0', '1', '0', '0', '1', '1', '0', '0', '0', '0',\n",
       "        '1', '0', '0', '1', '0', '0', '0', '0', '0', '0', '0', '1', '1',\n",
       "        '1', '0', '0', '1', '0', '0', '1', '0', '0', '1', '0', '1', '1',\n",
       "        '0', '1', '0', '1', '0', '1', '0', '1', '1', '0', '0', '0', '0',\n",
       "        '1', '1', '0', '1', '0', '1', '0', '0', '0', '0', '1', '1', '0',\n",
       "        '1', '0', '1', '0', '0', '0', '0', '0', '1', '0', '0', '0', '0',\n",
       "        '1', '0', '0', '1', '1', '1', '0', '0', '1', '0', '0', '1', '0',\n",
       "        '0', '0', '1', '0', '0', '1', '0', '0', '0', '0', '0', '0', '0',\n",
       "        '0', '0', '1', '0', '0', '0', '0', '0', '0', '0', '1', '0', '0',\n",
       "        '0', '1', '0', '0', '0', '1', '1', '0', '0', '0', '0', '0', '0',\n",
       "        '0', '1', '0', '0', '0', '0', '1', '0', '0', '0', '1', '0', '0',\n",
       "        '0', '1', '0', '0', '0', '1', '0', '0', '0', '0', '1', '1', '0',\n",
       "        '0', '0', '0', '0', '0', '1', '0', '0', '0', '0', '0', '0', '0',\n",
       "        '0', '0', '0', '0', '1', '0', '0', '0', '1', '1', '1', '1', '0',\n",
       "        '0', '1', '1', '0', '0', '0', '0', '0', '0', '0', '0', '0', '0',\n",
       "        '0', '0', '0', '1', '1', '0', '0', '0', '0', '0', '0', '0', '1',\n",
       "        '0', '0', '0', '0', '0', '0', '0', '1', '0', '1', '1', '0', '0',\n",
       "        '0', '1', '0', '1', '0', '1', '0', '1', '0', '1', '0', '0', '1',\n",
       "        '0', '0', '1', '0', '0', '0', '0', '1', '1', '0', '1', '0', '0',\n",
       "        '0', '0', '1', '1', '0', '1', '0', '0', '0', '1', '1', '0', '0',\n",
       "        '0', '0', '0', '0', '0', '0', '0', '0', '1', '0', '0', '0', '0',\n",
       "        '1', '0', '0', '1', '0', '0', '0', '1', '0', '0', '0', '1', '1',\n",
       "        '1', '0', '0', '0', '0', '0', '0', '1', '0', '0', '0', '1', '0',\n",
       "        '1', '1', '1', '1', '0', '1', '1', '0', '0', '0', '0', '0', '0',\n",
       "        '0', '1', '1', '0', '1', '0', '0', '1', '0', '1', '0', '0', '0',\n",
       "        '0', '0', '1', '0', '1', '0', '1', '0', '1', '1', '0', '0', '0',\n",
       "        '0', '1', '1', '0', '0', '0', '1', '0', '1', '1', '0', '0', '1',\n",
       "        '0', '0', '1', '1', '0', '0', '1', '0', '0', '1', '0', '0', '0',\n",
       "        '0', '0', '0', '0', '1', '1', '1', '0', '0', '0', '0', '0', '0',\n",
       "        '1', '1', '0', '0', '1', '0', '0', '1', '0', '1', '1', '1', '0',\n",
       "        '0', '1', '1', '1', '0', '1', '0', '1', '0', '1', '0', '0', '0',\n",
       "        '0', '1', '0'], dtype=object))"
      ]
     },
     "execution_count": 4,
     "metadata": {},
     "output_type": "execute_result"
    }
   ],
   "source": [
    "# load the datset\n",
    "X, y = load_dataset('diabetes.csv')\n",
    "X, y"
   ]
  },
  {
   "cell_type": "code",
   "execution_count": 5,
   "id": "d92514a5-5c18-4fbd-8b7d-c4f6fded837d",
   "metadata": {},
   "outputs": [],
   "source": [
    "# split into train and test sets\n",
    "X_train, X_test, y_train, y_test = train_test_split(X, y, test_size=0.33, random_state=1)"
   ]
  },
  {
   "cell_type": "code",
   "execution_count": 6,
   "id": "3fe622aa-7188-46b1-990a-4e2bbb892062",
   "metadata": {},
   "outputs": [],
   "source": [
    "# feature selection\n",
    "X_train_fs, X_test_fs, fs = select_features(X_train, y_train, X_test)"
   ]
  },
  {
   "cell_type": "code",
   "execution_count": 7,
   "id": "65d93ea0-f463-48d8-a083-2de84a1019f6",
   "metadata": {},
   "outputs": [
    {
     "name": "stdout",
     "output_type": "stream",
     "text": [
      "FEATURES 0: 21.952926\n",
      "FEATURES 1: 134.995132\n",
      "FEATURES 2: 1.868609\n",
      "FEATURES 3: 2.141532\n",
      "FEATURES 4: 6.303769\n",
      "FEATURES 5: 41.691993\n",
      "FEATURES 6: 11.759834\n",
      "FEATURES 7: 26.831139\n"
     ]
    }
   ],
   "source": [
    "# what are scors for the features\n",
    "for i in range(len(fs.scores_)):\n",
    "    print('FEATURES %d: %f' % (i, fs.scores_[i]))"
   ]
  },
  {
   "cell_type": "code",
   "execution_count": 8,
   "id": "d4ae1f06-d6d8-4bf8-90d3-d73d13b40d08",
   "metadata": {},
   "outputs": [
    {
     "data": {
      "image/png": "[encoded data removed]",
      "text/plain": [
       "<Figure size 432x288 with 1 Axes>"
      ]
     },
     "metadata": {
      "needs_background": "light"
     },
     "output_type": "display_data"
    }
   ],
   "source": [
    "# plot the scores\n",
    "pyplot.bar([i for i in range(len(fs.scores_))], fs.scores_)\n",
    "pyplot.show()"
   ]
  },
  {
   "cell_type": "code",
   "execution_count": null,
   "id": "c78d2b69-3c30-4efb-985c-14e132fdfd67",
   "metadata": {},
   "outputs": [],
   "source": []
  }
 ],
 "metadata": {
  "kernelspec": {
   "display_name": "Python 3 (ipykernel)",
   "language": "python",
   "name": "python3"
  },
  "language_info": {
   "codemirror_mode": {
    "name": "ipython",
    "version": 3
   },
   "file_extension": ".py",
   "mimetype": "text/x-python",
   "name": "python",
   "nbconvert_exporter": "python",
   "pygments_lexer": "ipython3",
   "version": "3.10.12"
  }
 },
 "nbformat": 4,
 "nbformat_minor": 5
}
